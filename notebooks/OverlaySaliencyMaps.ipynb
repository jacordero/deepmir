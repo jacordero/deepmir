{
 "cells": [
  {
   "cell_type": "markdown",
   "metadata": {},
   "source": [
    "Use this notebook to create an overlay of average saliency maps for true positives and true negatives."
   ]
  },
  {
   "cell_type": "code",
   "execution_count": 1,
   "metadata": {},
   "outputs": [],
   "source": [
    "import numpy as np\n",
    "import matplotlib.pyplot as plt\n",
    "import imageio\n",
    "from PIL import Image"
   ]
  },
  {
   "cell_type": "code",
   "execution_count": 17,
   "metadata": {},
   "outputs": [],
   "source": [
    "def min_nonzero(array):\n",
    "    flattened_array = array.flatten()\n",
    "    flattened_array = flattened_array[flattened_array > 0]\n",
    "    return flattened_array.min()    "
   ]
  },
  {
   "cell_type": "code",
   "execution_count": 18,
   "metadata": {},
   "outputs": [],
   "source": [
    "tn_map = np.load(\"../datasets/hsapseudo_tn_avg_map.npz\")[\"arr_0\"]\n",
    "tn_map_list = tn_map.tolist()\n",
    "max_tn_value = tn_map.max()\n",
    "min_tn_nonzero_value = min_nonzero(tn_map)\n",
    "\n",
    "tp_map = np.load(\"../datasets/hsapseudo_tp_avg_map.npz\")[\"arr_0\"]\n",
    "tp_map_list = tp_map.tolist()\n",
    "max_tp_value = tp_map.max()\n",
    "# minimum nonzero value in average saliency map of true positives\n",
    "min_tp_nonzero_value = min_nonzero(tp_map)"
   ]
  },
  {
   "cell_type": "code",
   "execution_count": 19,
   "metadata": {},
   "outputs": [
    {
     "name": "stdout",
     "output_type": "stream",
     "text": [
      "2.5720311754509078e-08\n",
      "4.661479976578634e-06\n"
     ]
    }
   ],
   "source": [
    "print(min_tn_nonzero_value)\n",
    "print(min_tp_nonzero_value)\n"
   ]
  },
  {
   "cell_type": "markdown",
   "metadata": {},
   "source": [
    "## Preprocess average saliency maps\n",
    "The grayscale values are scaled from their original scale to 0-255. Additionally, the grayscale average saliency maps of true negatives is converted to an RGB image whose pixels contain different red values. Similarly, the grayscale average saliency map of true positives is converted to an RGB image whose pixels contain different green values. "
   ]
  },
  {
   "cell_type": "code",
   "execution_count": 20,
   "metadata": {},
   "outputs": [],
   "source": [
    "def map_value_to_grayscale(value, min_value, max_value, min_color, max_color):\n",
    "    scaled_value = (value - min_value) / (max_value - min_value)\n",
    "    graycolor_scale = max_color - min_color\n",
    "    graycolor = scaled_value * graycolor_scale + min_color\n",
    "        \n",
    "    return int(graycolor)"
   ]
  },
  {
   "cell_type": "code",
   "execution_count": 21,
   "metadata": {},
   "outputs": [],
   "source": [
    "min_color = 0\n",
    "max_color = 255\n",
    "\n",
    "modified_tn_map_list = []\n",
    "for row in tn_map_list:\n",
    "    \n",
    "    tmp_row = []\n",
    "    for value in row:\n",
    "        grayscale_value = map_value_to_grayscale(value, min_tn_nonzero_value, max_tn_value, min_color, max_color)\n",
    "        rgb_value = [grayscale_value, 0, 0]\n",
    "        tmp_row.append(rgb_value)\n",
    "        \n",
    "    modified_tn_map_list.append(tmp_row)\n",
    "    \n",
    "modified_tp_map_list = []\n",
    "for row in tp_map_list:\n",
    "    \n",
    "    tmp_row = []\n",
    "    for value in row:\n",
    "        grayscale_value = map_value_to_grayscale(value, min_tp_nonzero_value, max_tp_value, min_color, max_color)\n",
    "        rgb_value = [0, grayscale_value, 0]\n",
    "        tmp_row.append(rgb_value)\n",
    "        \n",
    "    modified_tp_map_list.append(tmp_row)    \n"
   ]
  },
  {
   "cell_type": "code",
   "execution_count": 22,
   "metadata": {},
   "outputs": [],
   "source": [
    "rgb_tn_map = np.asarray(modified_tn_map_list)\n",
    "rgb_tp_map = np.asarray(modified_tp_map_list)"
   ]
  },
  {
   "cell_type": "code",
   "execution_count": 23,
   "metadata": {},
   "outputs": [
    {
     "data": {
      "text/plain": [
       "<matplotlib.image.AxesImage at 0x7fb4f04074e0>"
      ]
     },
     "execution_count": 23,
     "metadata": {},
     "output_type": "execute_result"
    },
    {
     "data": {
      "image/png": "[encoded data removed]",
      "text/plain": [
       "<Figure size 432x288 with 1 Axes>"
      ]
     },
     "metadata": {
      "needs_background": "light"
     },
     "output_type": "display_data"
    }
   ],
   "source": [
    "plt.imshow(rgb_tn_map)"
   ]
  },
  {
   "cell_type": "code",
   "execution_count": 24,
   "metadata": {},
   "outputs": [
    {
     "data": {
      "text/plain": [
       "<matplotlib.image.AxesImage at 0x7fb4f036d1d0>"
      ]
     },
     "execution_count": 24,
     "metadata": {},
     "output_type": "execute_result"
    },
    {
     "data": {
      "image/png": "[encoded data removed]",
      "text/plain": [
       "<Figure size 432x288 with 1 Axes>"
      ]
     },
     "metadata": {
      "needs_background": "light"
     },
     "output_type": "display_data"
    }
   ],
   "source": [
    "plt.imshow(rgb_tp_map)"
   ]
  },
  {
   "cell_type": "markdown",
   "metadata": {},
   "source": [
    "## Create and display overlayed saliency map"
   ]
  },
  {
   "cell_type": "code",
   "execution_count": 25,
   "metadata": {},
   "outputs": [
    {
     "data": {
      "text/plain": [
       "<matplotlib.image.AxesImage at 0x7fb4f0320f28>"
      ]
     },
     "execution_count": 25,
     "metadata": {},
     "output_type": "execute_result"
    },
    {
     "data": {
      "image/png": "[encoded data removed]",
      "text/plain": [
       "<Figure size 432x288 with 1 Axes>"
      ]
     },
     "metadata": {
      "needs_background": "light"
     },
     "output_type": "display_data"
    }
   ],
   "source": [
    "mixed_map = rgb_tn_map + rgb_tp_map\n",
    "plt.imshow(mixed_map)"
   ]
  },
  {
   "cell_type": "code",
   "execution_count": 26,
   "metadata": {},
   "outputs": [],
   "source": [
    "def save_color_image(image, output_filename):\n",
    "    plt.figure(figsize=(10,3))\n",
    "    plt.imshow(image)\n",
    "    plt.xticks([])\n",
    "    plt.yticks([])\n",
    "    plt.savefig(output_filename, bbox_inches='tight', transparent=True, pad_inches=0)"
   ]
  },
  {
   "cell_type": "code",
   "execution_count": 27,
   "metadata": {},
   "outputs": [
    {
     "data": {
      "image/png": "[encoded data removed]",
      "text/plain": [
       "<Figure size 720x216 with 1 Axes>"
      ]
     },
     "metadata": {},
     "output_type": "display_data"
    },
    {
     "data": {
      "image/png": "[encoded data removed]",
      "text/plain": [
       "<Figure size 720x216 with 1 Axes>"
      ]
     },
     "metadata": {},
     "output_type": "display_data"
    },
    {
     "data": {
      "image/png": "[encoded data removed]",
      "text/plain": [
       "<Figure size 720x216 with 1 Axes>"
      ]
     },
     "metadata": {},
     "output_type": "display_data"
    }
   ],
   "source": [
    "save_color_image(rgb_tn_map, \"monochromatic_tn_map.png\")\n",
    "save_color_image(rgb_tp_map, \"monochromatic_tp_map.png\")\n",
    "save_color_image(mixed_map, \"mixed_saliency_map.png\")"
   ]
  }
 ],
 "metadata": {
  "kernelspec": {
   "display_name": "Python 3",
   "language": "python",
   "name": "python3"
  },
  "language_info": {
   "codemirror_mode": {
    "name": "ipython",
    "version": 3
   },
   "file_extension": ".py",
   "mimetype": "text/x-python",
   "name": "python",
   "nbconvert_exporter": "python",
   "pygments_lexer": "ipython3",
   "version": "3.7.6"
  }
 },
 "nbformat": 4,
 "nbformat_minor": 2
}
