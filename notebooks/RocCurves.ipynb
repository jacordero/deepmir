{
 "cells": [
  {
   "cell_type": "markdown",
   "metadata": {},
   "source": [
    "Use this notebook to generatee ROC curves for base-CNN and fine-tuned-CNN models using modhsa test data."
   ]
  },
  {
   "cell_type": "code",
   "execution_count": 3,
   "metadata": {},
   "outputs": [
    {
     "name": "stderr",
     "output_type": "stream",
     "text": [
      "Using TensorFlow backend.\n"
     ]
    }
   ],
   "source": [
    "import keras\n",
    "from keras import backend as K\n",
    "from keras.models import load_model\n",
    "\n",
    "import numpy as np\n",
    "from sklearn.metrics import roc_curve\n",
    "from sklearn.metrics import auc\n",
    "import matplotlib.pyplot as plt"
   ]
  },
  {
   "cell_type": "markdown",
   "metadata": {},
   "source": [
    "## Load data and models"
   ]
  },
  {
   "cell_type": "code",
   "execution_count": 4,
   "metadata": {},
   "outputs": [],
   "source": [
    "# Declare filenames\n",
    "images_filename = \"../izmir-benchmark/hsapseudo_test_images.npz\"\n",
    "labels_filename = \"../izmir-benchmark/hsapseudo_test_labels.npz\" \n",
    "fine_tuned_model_filename = \"../models/fine_tuned_vgg_three_modules_3x3_dense256_izmir.h5\"\n",
    "base_model_filename = \"../models/base_vgg_three_modules_3x3_dense256_izmir.h5\""
   ]
  },
  {
   "cell_type": "code",
   "execution_count": 5,
   "metadata": {},
   "outputs": [],
   "source": [
    "# Load data\n",
    "# load data\n",
    "img_rows, img_cols = 25, 100\n",
    "\n",
    "images = np.load(images_filename)['arr_0']\n",
    "labels = np.load(labels_filename)['arr_0']\n",
    "\n",
    "if K.image_data_format() == 'channels_first':\n",
    "    images = np.swapaxes(images, 1, 3)\n",
    "    input_shape_img = (3, img_rows, img_cols)\n",
    "else:\n",
    "    input_shape_img = (img_rows, img_cols, 3)\n",
    "images = images.astype('float32')\n",
    "images /= 255\n",
    "                                                                                                                                                                                                                                                                                                                                                                                                                    \n",
    "binary_labels = keras.utils.to_categorical(labels, 2)\n"
   ]
  },
  {
   "cell_type": "code",
   "execution_count": 6,
   "metadata": {},
   "outputs": [],
   "source": [
    "# Load models\n",
    "fine_tuned_model = load_model(fine_tuned_model_filename)\n",
    "base_model = load_model(base_model_filename)"
   ]
  },
  {
   "cell_type": "markdown",
   "metadata": {},
   "source": [
    "## Generate ROC curves"
   ]
  },
  {
   "cell_type": "code",
   "execution_count": 7,
   "metadata": {},
   "outputs": [],
   "source": [
    "# Predictions\n",
    "fine_tuned_predicted_probs = fine_tuned_model.predict(images)\n",
    "base_predicted_probs = base_model.predict(images)"
   ]
  },
  {
   "cell_type": "code",
   "execution_count": 8,
   "metadata": {},
   "outputs": [],
   "source": [
    "# Roc values\n",
    "roc_aucs = []\n",
    "fprs = []\n",
    "tprs = []\n",
    "names = []\n",
    "\n",
    "fpr, tpr, thresholds = roc_curve(labels, fine_tuned_predicted_probs[:, 1].ravel())\n",
    "roc_auc = auc(fpr, tpr)\n",
    "roc_aucs.append(roc_auc)\n",
    "fprs.append(fpr)\n",
    "tprs.append(tpr)\n",
    "names.append('fine-tuned-CNN')\n",
    "\n",
    "fpr, tpr, thresholds = roc_curve(labels, base_predicted_probs[:, 1].ravel())\n",
    "roc_auc = auc(fpr, tpr)\n",
    "roc_aucs.append(roc_auc)\n",
    "fprs.append(fpr)\n",
    "tprs.append(tpr)\n",
    "names.append('base-CNN')\n"
   ]
  },
  {
   "cell_type": "code",
   "execution_count": 9,
   "metadata": {},
   "outputs": [],
   "source": [
    "def plot_roc_curves(fprs, tprs, roc_aucs, names, colors):\n",
    "    lw = 2\n",
    "    plt.figure(figsize=(8,6))\n",
    "    \n",
    "    for i in range(len(names)):\n",
    "        plt.plot(fprs[i], tprs[i], color=colors[i], lw=lw,\n",
    "                 label='{0} (area = {1:0.2f})'\n",
    "                 ''.format(names[i], roc_aucs[i]))\n",
    "    \n",
    "    plt.plot([0, 1], [0, 1], 'k--', lw=lw)\n",
    "    plt.xlim([0.0, 1.0])\n",
    "    plt.ylim([0.0, 1.05])\n",
    "    plt.xlabel('False Positive Rate')\n",
    "    plt.ylabel('True Positive Rate')\n",
    "    plt.legend(loc=\"lower right\")\n",
    "    plt.savefig('roc-curves.png', bbox_inches='tight')\n",
    "    plt.show()"
   ]
  },
  {
   "cell_type": "code",
   "execution_count": 10,
   "metadata": {},
   "outputs": [
    {
     "data": {
      "image/png": "[encoded data removed]",
      "text/plain": [
       "<Figure size 576x432 with 1 Axes>"
      ]
     },
     "metadata": {
      "needs_background": "light"
     },
     "output_type": "display_data"
    }
   ],
   "source": [
    "colors = ['blue', 'green', 'red']\n",
    "plot_roc_curves(fprs, tprs, roc_aucs, names, colors)"
   ]
  }
 ],
 "metadata": {
  "kernelspec": {
   "display_name": "Python 3",
   "language": "python",
   "name": "python3"
  },
  "language_info": {
   "codemirror_mode": {
    "name": "ipython",
    "version": 3
   },
   "file_extension": ".py",
   "mimetype": "text/x-python",
   "name": "python",
   "nbconvert_exporter": "python",
   "pygments_lexer": "ipython3",
   "version": "3.7.6"
  }
 },
 "nbformat": 4,
 "nbformat_minor": 2
}
